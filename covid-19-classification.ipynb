{
 "cells": [
  {
   "cell_type": "code",
   "execution_count": 1,
   "id": "f61d0e2e",
   "metadata": {
    "_cell_guid": "b1076dfc-b9ad-4769-8c92-a6c4dae69d19",
    "_uuid": "8f2839f25d086af736a60e9eeb907d3b93b6e0e5",
    "execution": {
     "iopub.execute_input": "2024-01-16T18:17:18.363123Z",
     "iopub.status.busy": "2024-01-16T18:17:18.362728Z",
     "iopub.status.idle": "2024-01-16T18:17:32.331155Z",
     "shell.execute_reply": "2024-01-16T18:17:32.330263Z"
    },
    "papermill": {
     "duration": 13.978894,
     "end_time": "2024-01-16T18:17:32.333744",
     "exception": false,
     "start_time": "2024-01-16T18:17:18.354850",
     "status": "completed"
    },
    "tags": []
   },
   "outputs": [
    {
     "name": "stderr",
     "output_type": "stream",
     "text": [
      "/opt/conda/lib/python3.10/site-packages/scipy/__init__.py:146: UserWarning: A NumPy version >=1.16.5 and <1.23.0 is required for this version of SciPy (detected version 1.24.3\n",
      "  warnings.warn(f\"A NumPy version >={np_minversion} and <{np_maxversion}\"\n"
     ]
    }
   ],
   "source": [
    "import os, shutil\n",
    "from keras.models import Model\n",
    "from keras.optimizers import Adam\n",
    "from keras.applications.vgg16 import VGG16, preprocess_input\n",
    "from keras.preprocessing.image import ImageDataGenerator\n",
    "from keras.callbacks import ModelCheckpoint, EarlyStopping\n",
    "from keras.layers import Dense, Dropout, Flatten\n",
    "import numpy as np\n",
    "from PIL import Image\n",
    "from collections import defaultdict"
   ]
  },
  {
   "cell_type": "markdown",
   "id": "21c82c45",
   "metadata": {
    "papermill": {
     "duration": 0.00534,
     "end_time": "2024-01-16T18:17:32.345248",
     "exception": false,
     "start_time": "2024-01-16T18:17:32.339908",
     "status": "completed"
    },
    "tags": []
   },
   "source": [
    "### 1. PREPARE DATASET"
   ]
  },
  {
   "cell_type": "markdown",
   "id": "df1eed8c",
   "metadata": {
    "papermill": {
     "duration": 0.005511,
     "end_time": "2024-01-16T18:17:32.356359",
     "exception": false,
     "start_time": "2024-01-16T18:17:32.350848",
     "status": "completed"
    },
    "tags": []
   },
   "source": [
    "#### EDA"
   ]
  },
  {
   "cell_type": "code",
   "execution_count": 2,
   "id": "3f90e714",
   "metadata": {
    "execution": {
     "iopub.execute_input": "2024-01-16T18:17:32.370110Z",
     "iopub.status.busy": "2024-01-16T18:17:32.368588Z",
     "iopub.status.idle": "2024-01-16T18:17:32.375997Z",
     "shell.execute_reply": "2024-01-16T18:17:32.375177Z"
    },
    "papermill": {
     "duration": 0.016085,
     "end_time": "2024-01-16T18:17:32.378027",
     "exception": false,
     "start_time": "2024-01-16T18:17:32.361942",
     "status": "completed"
    },
    "tags": []
   },
   "outputs": [],
   "source": [
    "def get_image_sizes(folder_path, image_sizes = defaultdict(int)):\n",
    "\n",
    "    for root, dirs, files in os.walk(folder_path):\n",
    "        for file in files:\n",
    "            file_path = os.path.join(root, file)\n",
    "            try:\n",
    "                with Image.open(file_path) as img:\n",
    "                    width, height = img.size\n",
    "                    size_str = f\"{width}x{height}\"\n",
    "                    image_sizes[size_str] += 1\n",
    "            except Exception as e:\n",
    "                print(f\"Error processing {file_path}: {e}\")\n",
    "\n",
    "    return image_sizes"
   ]
  },
  {
   "cell_type": "code",
   "execution_count": 3,
   "id": "bc011b6c",
   "metadata": {
    "execution": {
     "iopub.execute_input": "2024-01-16T18:17:32.390008Z",
     "iopub.status.busy": "2024-01-16T18:17:32.389722Z",
     "iopub.status.idle": "2024-01-16T18:18:10.025264Z",
     "shell.execute_reply": "2024-01-16T18:18:10.024396Z"
    },
    "papermill": {
     "duration": 37.644291,
     "end_time": "2024-01-16T18:18:10.027549",
     "exception": false,
     "start_time": "2024-01-16T18:17:32.383258",
     "status": "completed"
    },
    "tags": []
   },
   "outputs": [],
   "source": [
    "covid_sizes = get_image_sizes('/kaggle/input/dlai3-hackathon-phase3-covid19-cxr-challenge/DLAI3_Phase3/COVID-19')\n",
    "nonfind = get_image_sizes('/kaggle/input/dlai3-hackathon-phase3-covid19-cxr-challenge/DLAI3_Phase3/NOFINDING', covid_sizes)\n",
    "thora = get_image_sizes('/kaggle/input/dlai3-hackathon-phase3-covid19-cxr-challenge/DLAI3_Phase3/THORAXDISEASE', nonfind)"
   ]
  },
  {
   "cell_type": "code",
   "execution_count": 4,
   "id": "e79a43f9",
   "metadata": {
    "execution": {
     "iopub.execute_input": "2024-01-16T18:18:10.040430Z",
     "iopub.status.busy": "2024-01-16T18:18:10.039729Z",
     "iopub.status.idle": "2024-01-16T18:18:10.049775Z",
     "shell.execute_reply": "2024-01-16T18:18:10.048946Z"
    },
    "papermill": {
     "duration": 0.018543,
     "end_time": "2024-01-16T18:18:10.051964",
     "exception": false,
     "start_time": "2024-01-16T18:18:10.033421",
     "status": "completed"
    },
    "tags": []
   },
   "outputs": [
    {
     "data": {
      "text/plain": [
       "[('1024x1024', 223), ('3050x2539', 103), ('2498x1971', 7)]"
      ]
     },
     "execution_count": 4,
     "metadata": {},
     "output_type": "execute_result"
    }
   ],
   "source": [
    "top_3_size = sorted(thora.items(), key=lambda x: x[1], reverse=True)[:3]\n",
    "top_3_size"
   ]
  },
  {
   "cell_type": "markdown",
   "id": "21f08689",
   "metadata": {
    "papermill": {
     "duration": 0.005562,
     "end_time": "2024-01-16T18:18:10.063139",
     "exception": false,
     "start_time": "2024-01-16T18:18:10.057577",
     "status": "completed"
    },
    "tags": []
   },
   "source": [
    "We can see that **1024x1024** size is the most popular shape for dataset. However, this ideal size is not approprate to our property so I decide to reduce it to **512x512** pixels to fit what we have.😢"
   ]
  },
  {
   "cell_type": "markdown",
   "id": "0b79e2dc",
   "metadata": {
    "papermill": {
     "duration": 0.005684,
     "end_time": "2024-01-16T18:18:10.074211",
     "exception": false,
     "start_time": "2024-01-16T18:18:10.068527",
     "status": "completed"
    },
    "tags": []
   },
   "source": [
    "#### Preprocessing"
   ]
  },
  {
   "cell_type": "code",
   "execution_count": 5,
   "id": "1e70d205",
   "metadata": {
    "execution": {
     "iopub.execute_input": "2024-01-16T18:18:10.086370Z",
     "iopub.status.busy": "2024-01-16T18:18:10.085828Z",
     "iopub.status.idle": "2024-01-16T18:18:10.090078Z",
     "shell.execute_reply": "2024-01-16T18:18:10.089262Z"
    },
    "papermill": {
     "duration": 0.012727,
     "end_time": "2024-01-16T18:18:10.092131",
     "exception": false,
     "start_time": "2024-01-16T18:18:10.079404",
     "status": "completed"
    },
    "tags": []
   },
   "outputs": [],
   "source": [
    "os.makedirs(os.path.join('/kaggle/working', 'Covid19_dataset'))"
   ]
  },
  {
   "cell_type": "code",
   "execution_count": 6,
   "id": "9746001f",
   "metadata": {
    "execution": {
     "iopub.execute_input": "2024-01-16T18:18:10.104640Z",
     "iopub.status.busy": "2024-01-16T18:18:10.103929Z",
     "iopub.status.idle": "2024-01-16T18:18:10.113805Z",
     "shell.execute_reply": "2024-01-16T18:18:10.113025Z"
    },
    "papermill": {
     "duration": 0.018182,
     "end_time": "2024-01-16T18:18:10.115730",
     "exception": false,
     "start_time": "2024-01-16T18:18:10.097548",
     "status": "completed"
    },
    "tags": []
   },
   "outputs": [],
   "source": [
    "def copy_image_to_other(orig_folder, rate:list):\n",
    "    # Parameters:\n",
    "    # + orig_folder: original folder of dataset\n",
    "    # + rate: list of ratio to split dataset into train/val/test\n",
    "    des_path = '/kaggle/working/Covid19_dataset'\n",
    "    if os.path.exists(os.path.join(des_path, 'train')) == False:\n",
    "        os.makedirs(os.path.join(des_path, 'train'))\n",
    "        os.makedirs(os.path.join(des_path, 'val'))\n",
    "        os.makedirs(os.path.join(des_path, 'test'))\n",
    "    \n",
    "    # Split each category folder into train/val/test\n",
    "    foldername = os.path.basename(orig_folder)\n",
    "    folder_list = [train, val, test]\n",
    "    img_list = os.listdir(orig_folder)\n",
    "    flag = 0\n",
    "    for i in range(3):\n",
    "        point = flag + int(len(img_list)*rate[i])\n",
    "        os.makedirs(os.path.join(des_path, folder_list[i], foldername))\n",
    "        try:\n",
    "            for img in img_list[flag:point+1]:\n",
    "                src_img = os.path.join(orig_folder, img)\n",
    "                des_img = os.path.join(des_path, folder_list[i],foldername, img)\n",
    "                shutil.copyfile(src_img, des_img)\n",
    "            flag = point\n",
    "        except IndexError:\n",
    "            for img in img_list[flag:point]:\n",
    "                src_img = os.path.join(orig_folder, img)\n",
    "                des_img = os.path.join(des_path, folder_list[i],foldername, img)\n",
    "                shutil.copyfile(src_img, des_img)\n",
    "            flag = point\n",
    "        print(f'Copy image to {folder_list[i]} done!')"
   ]
  },
  {
   "cell_type": "code",
   "execution_count": 7,
   "id": "c589261f",
   "metadata": {
    "execution": {
     "iopub.execute_input": "2024-01-16T18:18:10.128422Z",
     "iopub.status.busy": "2024-01-16T18:18:10.127715Z",
     "iopub.status.idle": "2024-01-16T18:18:24.719407Z",
     "shell.execute_reply": "2024-01-16T18:18:24.717908Z"
    },
    "papermill": {
     "duration": 14.600323,
     "end_time": "2024-01-16T18:18:24.721628",
     "exception": false,
     "start_time": "2024-01-16T18:18:10.121305",
     "status": "completed"
    },
    "tags": []
   },
   "outputs": [
    {
     "name": "stdout",
     "output_type": "stream",
     "text": [
      "Copy image to val done!\n",
      "Copy image to test done!\n",
      "Copy image to train done!\n"
     ]
    }
   ],
   "source": [
    "rate = [0.9, 0.05, 0.05]\n",
    "covid = '/kaggle/input/dlai3-hackathon-phase3-covid19-cxr-challenge/DLAI3_Phase3/COVID-19'\n",
    "copy_image_to_other(covid, rate)"
   ]
  },
  {
   "cell_type": "code",
   "execution_count": 8,
   "id": "41d4770b",
   "metadata": {
    "execution": {
     "iopub.execute_input": "2024-01-16T18:18:24.735959Z",
     "iopub.status.busy": "2024-01-16T18:18:24.735295Z",
     "iopub.status.idle": "2024-01-16T18:18:27.377388Z",
     "shell.execute_reply": "2024-01-16T18:18:27.376221Z"
    },
    "papermill": {
     "duration": 2.651739,
     "end_time": "2024-01-16T18:18:27.379537",
     "exception": false,
     "start_time": "2024-01-16T18:18:24.727798",
     "status": "completed"
    },
    "tags": []
   },
   "outputs": [
    {
     "name": "stdout",
     "output_type": "stream",
     "text": [
      "Copy image to val done!\n",
      "Copy image to test done!\n",
      "Copy image to train done!\n"
     ]
    }
   ],
   "source": [
    "nonfiding = '/kaggle/input/dlai3-hackathon-phase3-covid19-cxr-challenge/DLAI3_Phase3/NOFINDING'\n",
    "copy_image_to_other(nonfiding, rate)"
   ]
  },
  {
   "cell_type": "code",
   "execution_count": 9,
   "id": "e4edc7ba",
   "metadata": {
    "execution": {
     "iopub.execute_input": "2024-01-16T18:18:27.392720Z",
     "iopub.status.busy": "2024-01-16T18:18:27.392372Z",
     "iopub.status.idle": "2024-01-16T18:18:32.316117Z",
     "shell.execute_reply": "2024-01-16T18:18:32.315075Z"
    },
    "papermill": {
     "duration": 4.9328,
     "end_time": "2024-01-16T18:18:32.318480",
     "exception": false,
     "start_time": "2024-01-16T18:18:27.385680",
     "status": "completed"
    },
    "tags": []
   },
   "outputs": [
    {
     "name": "stdout",
     "output_type": "stream",
     "text": [
      "Copy image to val done!\n",
      "Copy image to test done!\n",
      "Copy image to train done!\n"
     ]
    }
   ],
   "source": [
    "thora = '/kaggle/input/dlai3-hackathon-phase3-covid19-cxr-challenge/DLAI3_Phase3/THORAXDISEASE'\n",
    "copy_image_to_other(thora, rate)"
   ]
  },
  {
   "cell_type": "code",
   "execution_count": 10,
   "id": "b9bc2800",
   "metadata": {
    "execution": {
     "iopub.execute_input": "2024-01-16T18:18:32.334709Z",
     "iopub.status.busy": "2024-01-16T18:18:32.334417Z",
     "iopub.status.idle": "2024-01-16T18:18:32.513262Z",
     "shell.execute_reply": "2024-01-16T18:18:32.512359Z"
    },
    "papermill": {
     "duration": 0.189239,
     "end_time": "2024-01-16T18:18:32.515566",
     "exception": false,
     "start_time": "2024-01-16T18:18:32.326327",
     "status": "completed"
    },
    "tags": []
   },
   "outputs": [
    {
     "name": "stdout",
     "output_type": "stream",
     "text": [
      "Found 277 images belonging to 3 classes.\n",
      "Found 4958 images belonging to 3 classes.\n",
      "Found 277 images belonging to 3 classes.\n"
     ]
    }
   ],
   "source": [
    "generator = ImageDataGenerator(rescale = 1./255)\n",
    "\n",
    "train = '/kaggle/working/Covid19_dataset/train'\n",
    "val = '/kaggle/working/Covid19_dataset/val'\n",
    "test = '/kaggle/working/Covid19_dataset/test'\n",
    "val_generator = generator.flow_from_directory(train, target_size = (512, 512), class_mode='categorical')\n",
    "train_generator = generator.flow_from_directory(val, target_size = (512, 512), class_mode='categorical')\n",
    "test_generator = generator.flow_from_directory(test, target_size = (512, 512), class_mode='categorical')"
   ]
  },
  {
   "cell_type": "markdown",
   "id": "0ca24d9a",
   "metadata": {
    "papermill": {
     "duration": 0.006656,
     "end_time": "2024-01-16T18:18:32.528924",
     "exception": false,
     "start_time": "2024-01-16T18:18:32.522268",
     "status": "completed"
    },
    "tags": []
   },
   "source": [
    "### 2. DEFINE MODEL"
   ]
  },
  {
   "cell_type": "code",
   "execution_count": 11,
   "id": "f2e902ec",
   "metadata": {
    "execution": {
     "iopub.execute_input": "2024-01-16T18:18:32.544543Z",
     "iopub.status.busy": "2024-01-16T18:18:32.543699Z",
     "iopub.status.idle": "2024-01-16T18:18:34.516826Z",
     "shell.execute_reply": "2024-01-16T18:18:34.515978Z"
    },
    "papermill": {
     "duration": 1.983772,
     "end_time": "2024-01-16T18:18:34.519557",
     "exception": false,
     "start_time": "2024-01-16T18:18:32.535785",
     "status": "completed"
    },
    "tags": []
   },
   "outputs": [
    {
     "name": "stdout",
     "output_type": "stream",
     "text": [
      "Downloading data from https://storage.googleapis.com/tensorflow/keras-applications/vgg16/vgg16_weights_tf_dim_ordering_tf_kernels_notop.h5\n",
      "58889256/58889256 [==============================] - 0s 0us/step\n"
     ]
    }
   ],
   "source": [
    "vgg = VGG16(weights='imagenet', include_top=False, input_shape=(512, 512, 3))\n",
    "\n",
    "# Freeze all layers in the base model\n",
    "for layer in vgg.layers:\n",
    "    layer.trainable = False\n",
    "\n",
    "# Add custom classification layers\n",
    "x = Flatten()(vgg.output)\n",
    "x = Dense(1024, activation='relu')(x)\n",
    "x = Dense(256, activation='relu')(x)\n",
    "x = Dense(3, activation='softmax')(x)\n",
    "\n",
    "model = Model(inputs=vgg.input, outputs=x)\n"
   ]
  },
  {
   "cell_type": "code",
   "execution_count": 12,
   "id": "fdca2222",
   "metadata": {
    "execution": {
     "iopub.execute_input": "2024-01-16T18:18:34.535449Z",
     "iopub.status.busy": "2024-01-16T18:18:34.535148Z",
     "iopub.status.idle": "2024-01-16T18:18:34.550492Z",
     "shell.execute_reply": "2024-01-16T18:18:34.549550Z"
    },
    "papermill": {
     "duration": 0.025405,
     "end_time": "2024-01-16T18:18:34.552469",
     "exception": false,
     "start_time": "2024-01-16T18:18:34.527064",
     "status": "completed"
    },
    "tags": []
   },
   "outputs": [],
   "source": [
    "# Compile the model\n",
    "model.compile(optimizer='adam', loss='categorical_crossentropy', metrics=['accuracy'])"
   ]
  },
  {
   "cell_type": "code",
   "execution_count": 13,
   "id": "a107348b",
   "metadata": {
    "execution": {
     "iopub.execute_input": "2024-01-16T18:18:34.567637Z",
     "iopub.status.busy": "2024-01-16T18:18:34.567379Z",
     "iopub.status.idle": "2024-01-16T18:59:39.230177Z",
     "shell.execute_reply": "2024-01-16T18:59:39.229247Z"
    },
    "papermill": {
     "duration": 2464.672685,
     "end_time": "2024-01-16T18:59:39.232140",
     "exception": false,
     "start_time": "2024-01-16T18:18:34.559455",
     "status": "completed"
    },
    "tags": []
   },
   "outputs": [
    {
     "name": "stdout",
     "output_type": "stream",
     "text": [
      "Epoch 1/20\n",
      "155/155 [==============================] - 172s 970ms/step - loss: 2.8124 - accuracy: 0.8588 - val_loss: 0.0939 - val_accuracy: 0.9675\n",
      "Epoch 2/20\n",
      "155/155 [==============================] - 120s 772ms/step - loss: 0.1328 - accuracy: 0.9597 - val_loss: 0.0632 - val_accuracy: 0.9783\n",
      "Epoch 3/20\n",
      "155/155 [==============================] - 120s 774ms/step - loss: 0.0455 - accuracy: 0.9818 - val_loss: 0.1718 - val_accuracy: 0.9495\n",
      "Epoch 4/20\n",
      "155/155 [==============================] - 121s 775ms/step - loss: 0.0238 - accuracy: 0.9903 - val_loss: 0.0641 - val_accuracy: 0.9783\n",
      "Epoch 5/20\n",
      "155/155 [==============================] - 121s 779ms/step - loss: 0.0168 - accuracy: 0.9935 - val_loss: 0.0925 - val_accuracy: 0.9783\n",
      "Epoch 6/20\n",
      "155/155 [==============================] - 120s 772ms/step - loss: 0.0202 - accuracy: 0.9935 - val_loss: 0.2017 - val_accuracy: 0.9458\n",
      "Epoch 7/20\n",
      "155/155 [==============================] - 120s 773ms/step - loss: 0.0177 - accuracy: 0.9937 - val_loss: 0.1688 - val_accuracy: 0.9675\n",
      "Epoch 8/20\n",
      "155/155 [==============================] - 120s 773ms/step - loss: 0.0070 - accuracy: 0.9982 - val_loss: 0.0851 - val_accuracy: 0.9747\n",
      "Epoch 9/20\n",
      "155/155 [==============================] - 121s 777ms/step - loss: 0.0213 - accuracy: 0.9925 - val_loss: 0.1798 - val_accuracy: 0.9603\n",
      "Epoch 10/20\n",
      "155/155 [==============================] - 120s 771ms/step - loss: 0.0268 - accuracy: 0.9897 - val_loss: 0.0984 - val_accuracy: 0.9711\n",
      "Epoch 11/20\n",
      "155/155 [==============================] - 121s 777ms/step - loss: 0.0180 - accuracy: 0.9931 - val_loss: 0.1304 - val_accuracy: 0.9675\n",
      "Epoch 12/20\n",
      "155/155 [==============================] - 121s 776ms/step - loss: 0.0852 - accuracy: 0.9796 - val_loss: 0.2163 - val_accuracy: 0.9567\n",
      "Epoch 13/20\n",
      "155/155 [==============================] - 121s 776ms/step - loss: 0.0122 - accuracy: 0.9954 - val_loss: 0.0797 - val_accuracy: 0.9856\n",
      "Epoch 14/20\n",
      "155/155 [==============================] - 121s 775ms/step - loss: 0.0120 - accuracy: 0.9972 - val_loss: 0.1556 - val_accuracy: 0.9603\n",
      "Epoch 15/20\n",
      "155/155 [==============================] - 121s 777ms/step - loss: 0.0670 - accuracy: 0.9784 - val_loss: 0.1116 - val_accuracy: 0.9783\n",
      "Epoch 16/20\n",
      "155/155 [==============================] - 121s 775ms/step - loss: 0.0217 - accuracy: 0.9919 - val_loss: 0.1181 - val_accuracy: 0.9675\n",
      "Epoch 17/20\n",
      "155/155 [==============================] - 121s 777ms/step - loss: 0.0071 - accuracy: 0.9968 - val_loss: 0.1138 - val_accuracy: 0.9747\n",
      "Epoch 18/20\n",
      "155/155 [==============================] - 121s 776ms/step - loss: 5.4110e-04 - accuracy: 1.0000 - val_loss: 0.1203 - val_accuracy: 0.9711\n",
      "Epoch 19/20\n",
      "155/155 [==============================] - 120s 773ms/step - loss: 1.4495e-04 - accuracy: 1.0000 - val_loss: 0.1000 - val_accuracy: 0.9856\n",
      "Epoch 20/20\n",
      "155/155 [==============================] - 121s 776ms/step - loss: 8.9409e-05 - accuracy: 1.0000 - val_loss: 0.1049 - val_accuracy: 0.9856\n"
     ]
    },
    {
     "data": {
      "text/plain": [
       "<keras.src.callbacks.History at 0x7f0800fd7e80>"
      ]
     },
     "execution_count": 13,
     "metadata": {},
     "output_type": "execute_result"
    }
   ],
   "source": [
    "model.fit(train_generator,\n",
    "          batch_size = 64,\n",
    "          validation_data=val_generator, \n",
    "          epochs=20)"
   ]
  },
  {
   "cell_type": "code",
   "execution_count": null,
   "id": "58a9da72",
   "metadata": {
    "papermill": {
     "duration": 0.270634,
     "end_time": "2024-01-16T18:59:39.822489",
     "exception": false,
     "start_time": "2024-01-16T18:59:39.551855",
     "status": "completed"
    },
    "tags": []
   },
   "outputs": [],
   "source": []
  }
 ],
 "metadata": {
  "kaggle": {
   "accelerator": "nvidiaTeslaT4",
   "dataSources": [
    {
     "datasetId": 783964,
     "sourceId": 1347344,
     "sourceType": "datasetVersion"
    }
   ],
   "dockerImageVersionId": 30636,
   "isGpuEnabled": true,
   "isInternetEnabled": true,
   "language": "python",
   "sourceType": "notebook"
  },
  "kernelspec": {
   "display_name": "Python 3",
   "language": "python",
   "name": "python3"
  },
  "language_info": {
   "codemirror_mode": {
    "name": "ipython",
    "version": 3
   },
   "file_extension": ".py",
   "mimetype": "text/x-python",
   "name": "python",
   "nbconvert_exporter": "python",
   "pygments_lexer": "ipython3",
   "version": "3.10.12"
  },
  "papermill": {
   "default_parameters": {},
   "duration": 2548.132593,
   "end_time": "2024-01-16T18:59:42.634944",
   "environment_variables": {},
   "exception": null,
   "input_path": "__notebook__.ipynb",
   "output_path": "__notebook__.ipynb",
   "parameters": {},
   "start_time": "2024-01-16T18:17:14.502351",
   "version": "2.4.0"
  }
 },
 "nbformat": 4,
 "nbformat_minor": 5
}
